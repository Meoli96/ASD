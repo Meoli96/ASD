{
 "cells": [
  {
   "cell_type": "code",
   "execution_count": 1,
   "metadata": {},
   "outputs": [],
   "source": [
    "from toolbox.kane_v2 import *"
   ]
  },
  {
   "cell_type": "code",
   "execution_count": 2,
   "metadata": {},
   "outputs": [
    {
     "name": "stdout",
     "output_type": "stream",
     "text": [
      "10\n",
      "4\n"
     ]
    }
   ],
   "source": [
    "# Generate a tree of bodies\n",
    "root = Body(0)\n",
    "b1 = Body(1)\n",
    "b2 = Body(2)\n",
    "b3 = Body(3)\n",
    "b4 = Body(4)\n",
    "\n",
    "j1 = Joint(1, \"G1\")\n",
    "j2 = Joint(1, \"G2\")\n",
    "j3 = Joint(1, \"G3\")\n",
    "j4 = Joint(1, \"G4\")\n",
    "\n",
    "j1.connect(root, b1)\n",
    "j2.connect(root, b2)\n",
    "j3.connect(b1, b3)\n",
    "j4.connect(b1, b4)\n",
    "\n",
    "\n",
    "print(root.dof())\n",
    "print(len(root.retrieve_joints()))\n"
   ]
  },
  {
   "cell_type": "code",
   "execution_count": 7,
   "metadata": {},
   "outputs": [],
   "source": [
    "bodies  = root.retrieve_bodies()\n",
    "joints = root.retrieve_joints()\n",
    "dof = root.dof()"
   ]
  },
  {
   "cell_type": "code",
   "execution_count": 8,
   "metadata": {},
   "outputs": [],
   "source": [
    "M = np.zeros((3*len(bodies), dof))\n",
    "for i in range(len(bodies)):\n",
    "    pass\n",
    "\n",
    "\n",
    "\n",
    "\n"
   ]
  },
  {
   "cell_type": "code",
   "execution_count": 4,
   "metadata": {},
   "outputs": [],
   "source": [
    "# Map bodies and joints into a list of indexes\n",
    "\n",
    " "
   ]
  },
  {
   "cell_type": "code",
   "execution_count": null,
   "metadata": {},
   "outputs": [],
   "source": []
  }
 ],
 "metadata": {
  "kernelspec": {
   "display_name": ".venv",
   "language": "python",
   "name": "python3"
  },
  "language_info": {
   "codemirror_mode": {
    "name": "ipython",
    "version": 3
   },
   "file_extension": ".py",
   "mimetype": "text/x-python",
   "name": "python",
   "nbconvert_exporter": "python",
   "pygments_lexer": "ipython3",
   "version": "3.11.8"
  }
 },
 "nbformat": 4,
 "nbformat_minor": 2
}
