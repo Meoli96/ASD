{
 "cells": [
  {
   "cell_type": "code",
   "execution_count": null,
   "metadata": {},
   "outputs": [],
   "source": [
    "import numpy as np  \n",
    "import matplotlib.pyplot as plt\n",
    "import scipy.interpolate as spi\n",
    "\n",
    "from utils import *\n",
    "\n"
   ]
  },
  {
   "cell_type": "code",
   "execution_count": null,
   "metadata": {},
   "outputs": [],
   "source": [
    "### Initial data\n",
    "\n",
    "rE = 6371 # Earth radius [km]\n",
    "mu = 398600 # Earth gravitational parameter [km^3/s^2]\n",
    "\n",
    "# Orbital parameters\n",
    "\n",
    "h = 1000\n",
    "\n",
    "a = rE + h # circular orbit\n",
    "raan = np.deg2rad(50) # right ascension of the ascending node\n",
    "i = np.deg2rad(55) # inclination\n",
    "truan0 = 0 # true anomaly at t=0\n",
    "\n",
    "\n",
    "\n",
    "\n",
    "\n",
    "Jc = np.array([[1800, 100, -200], [100, 2200, 300], [-200, 300, 2500]]) # Inertia matrix of the spacecraft [kg m^2]\n",
    "\n",
    "\n",
    "\n",
    "# Inititial conditions for the attitude of the satellite\n",
    "q0_1 = -0.1\n",
    "q0_2 = -0.3\n",
    "q0_3 = 0.5\n",
    "q0_0 = np.sqrt(1 - ( q0_1**2 + q0_2**2 + q0_3**2))\n",
    "\n",
    "q0 = Quat(q0_0, q0_1, q0_2, q0_3)\n",
    "\n",
    "om0 = np.array([-0.01], [0.01], [0]) # Initial angular velocity [rad/s]\n",
    "\n",
    "## Wheel parameters\n",
    "Is = 1 # kg m^2\n",
    "It = 0.5 # kg m^2\n",
    "\n",
    "a1= np.array([1, 1, 1])/np.sqrt(3)\n",
    "a2 = np.array([1, -1, 1])/np.sqrt(3)\n",
    "a3 = np.array([-1, 1, 1])/np.sqrt(3)\n",
    "a4 = np.array([-1, -1, 1])/np.sqrt(3)\n",
    "\n",
    "om_w0 = [0.5, -0.5, 0.5, -0.5] # Initial wheel angular velocities [rad/s]\n",
    "\n",
    "# Control parameters\n",
    "nat_freq = 0.05\n",
    "csi = 1\n",
    "\n",
    "# Control gain matrices\n",
    "c1 = 2*nat_freq**2\n",
    "c2 = csi/nat_freq\n",
    "\n",
    "A = c1*np.eye(3)\n",
    "B = c2*np.eye(3)\n"
   ]
  },
  {
   "cell_type": "code",
   "execution_count": null,
   "metadata": {},
   "outputs": [],
   "source": []
  }
 ],
 "metadata": {
  "language_info": {
   "name": "python"
  }
 },
 "nbformat": 4,
 "nbformat_minor": 2
}
