{
 "cells": [
  {
   "cell_type": "code",
   "execution_count": 65,
   "metadata": {},
   "outputs": [],
   "source": [
    "import numpy as np  \n",
    "import matplotlib.pyplot as plt\n",
    "import scipy.integrate as spi\n",
    "\n",
    "from toolbox.utils import *\n",
    "from quaternion import *\n",
    "\n"
   ]
  },
  {
   "cell_type": "code",
   "execution_count": 66,
   "metadata": {},
   "outputs": [],
   "source": [
    "# Orbital data \n",
    "\n",
    "rE = 6371 # Earth radius [km]\n",
    "mu = 398600 # Earth gravitational parameter [km^3/s^2]\n",
    "\n",
    "# Orbital parameters\n",
    "\n",
    "altitude = 1000 # altitude [km]\t\n",
    "\n",
    "a = rE + altitude # circular orbit\n",
    "e = 0 # circular orbit\n",
    "raan = np.deg2rad(50) # right ascension of the ascending node\n",
    "i = np.deg2rad(55) # inclination\n",
    "truan0 = 0 # true anomaly at t=0\n",
    "\n",
    "\n",
    "# Derived quantities (semilatus rectum, h angular momentum)\n",
    "p = a\n",
    "h = np.sqrt(mu*p)\n",
    "truan_dot = h/a**2 # true anomaly rate for a circular orbit, in rad/s\n"
   ]
  },
  {
   "cell_type": "code",
   "execution_count": 67,
   "metadata": {},
   "outputs": [],
   "source": [
    "# Spacecraft inertia matrix \n",
    "Jc = np.array([[1800, 100, -200], [100, 2200, 300], [-200, 300, 2500]]) # Inertia matrix of the spacecraft [kg m^2]\n",
    "\n",
    "# Inititial conditions for the attitude of the satellite\n",
    "q0_1 = -0.1\n",
    "q0_2 = -0.3\n",
    "q0_3 = 0.5\n",
    "q0_0 = np.sqrt(1 - ( q0_1**2 + q0_2**2 + q0_3**2))\n",
    "\n",
    "q0 = Quaternion(np.array([q0_0, q0_1, q0_2, q0_3]))\n",
    "\n",
    "om0 = np.array([-0.01, 0.01, 0]) # Initial angular velocity [rad/s]"
   ]
  },
  {
   "cell_type": "code",
   "execution_count": 68,
   "metadata": {},
   "outputs": [],
   "source": [
    "## Wheel parameters\n",
    "Is = 1 # kg m^2\n",
    "It = 0.5 # kg m^2\n",
    "\n",
    "a1 = np.array([[1], [1], [1]]) / np.sqrt(3)\n",
    "a2 = np.array([[1], [-1], [1]]) / np.sqrt(3)\n",
    "a3 = np.array([[-1], [1], [1]]) / np.sqrt(3)\n",
    "a4 = np.array([[-1], [-1], [1]]) / np.sqrt(3)\n",
    "\n",
    "om_w0 = [0.5, -0.5, 0.5, -0.5] # Initial wheel angular velocities [rad/s]\n",
    "\n",
    "\n",
    "# Assemble all wheels in a matrix A\n",
    "A_w = Is*np.hstack([a1, a2, a3, a4])"
   ]
  },
  {
   "cell_type": "code",
   "execution_count": 69,
   "metadata": {},
   "outputs": [],
   "source": [
    "# Control parameters\n",
    "nat_freq = 0.05\n",
    "csi = 1\n",
    "\n",
    "# Control gain matrices\n",
    "c1 = 2*nat_freq**2\n",
    "c2 = csi/nat_freq\n",
    "\n",
    "A = c1*np.eye(3)\n",
    "B = c2*np.eye(3)"
   ]
  },
  {
   "cell_type": "code",
   "execution_count": 70,
   "metadata": {},
   "outputs": [],
   "source": [
    "t0 = 0\n",
    "tf = 10"
   ]
  },
  {
   "cell_type": "code",
   "execution_count": 71,
   "metadata": {},
   "outputs": [],
   "source": [
    "# Commanded frame and angular velocity \n",
    "\n",
    "Rb = np.array([[0,1,0],[0,0,-1],[-1,0,0]])  # Nadir pointing matrix in LVLH\n",
    "\n",
    "def b_c(theta_t):\n",
    "    # Commanded body axes are a clockwise rotation of theta along\n",
    "    # the third body axis (the one aligned with radial direction)\n",
    "    return Rz(-theta_t)*Rb\n",
    "\n",
    "def om_c(theta_t, args):\n",
    "    # Commanded angular velocity in commanded frame\n",
    "    theta_dot = args\n",
    "    return theta_dot*np.array([[-np.sin(theta_t)], [-np.cos(theta_t)], [1]])\n",
    "\n",
    "om_c_dot = np.zeros((3,1))\n",
    "Mc = np.zeros((3,1)) # External disturbance torque"
   ]
  },
  {
   "cell_type": "code",
   "execution_count": 72,
   "metadata": {},
   "outputs": [],
   "source": [
    "def ode_integrate(t, nu: np.array):\n",
    "    # State is composed from the quaternion and the angular velocity of the body\n",
    "    # plus the angular velocities of the wheels\n",
    "    # nu = [q0, q1, q2, q3, om1, om2, om3, vec(om_s)] as a row vector\n",
    "    # Compute true anomaly\n",
    "    \n",
    "    truan = truan_dot*t + truan0\n",
    "\n",
    "    # Use truan to get the commanded frame and angular velocity\n",
    "    q_c = Quaternion()\n",
    "    Rc = b_c(truan)\n",
    "    q_c.fromR(Rc)\n",
    "\n",
    "    omc = om_c(truan, truan_dot)\n",
    "\n",
    "    # Extract state variables\n",
    "    q_b = Quaternion(nu[0:4])\n",
    "    om = nu[4:7] \n",
    "    om = om.reshape((3,1))\n",
    "\n",
    "    q0b = q_b.q0()\n",
    "    qb = q_b.q()\n",
    "    q0c = q_c.q0()\n",
    "    qc = q_c.q()\n",
    "\n",
    "    om_s = nu[7:11]\n",
    "    om_s = om_s.T\n",
    "\n",
    "    # Compute the attitude error\n",
    "    q0e = q0c*q0b + qc.T@qb\n",
    "    qe = qc*q0b + (-q0c*np.eye(3) + skew(qc))@qb\n",
    "    \n",
    "    q_err = Quaternion(np.vstack([q0e, qe]))\n",
    "    om_d = om - omc\n",
    "\n",
    "    # Compute the control torque\n",
    "    Tc = skew(om)@Jc@om + Jc@om_c_dot - Jc@np.linalg.inv(A)@B@om_d - Jc@np.linalg.inv(A)@qe\n",
    "\n",
    "    # Steering law -- compute om_s_dot\n",
    "    om_s_dot = -np.transpose(A_w)@np.linalg.inv(A_w@np.transpose(A_w))@Tc\n",
    "\n",
    "\n",
    "    dnu = np.zeros((11,1))\n",
    "    # If no gyro effect, we dont need om_s\n",
    "    # Ta = -skew(om)@A_w@om_s \n",
    "    om_dot = np.linalg.inv(Jc)@(Mc - skew(om)@Jc@om - A_w@om_s_dot)\n",
    "    \n",
    "    q0_dot = -0.5*om.T@qb\n",
    "    q_b_dot = 0.5*(q0b*om - skew(om)@qb)\n",
    "\n",
    "    dnu[0] = q0_dot\n",
    "    dnu[1:4] = q_b_dot\n",
    "    dnu[4:7] = om_dot\n",
    "    dnu[7:11] = om_s_dot\n",
    "\n",
    "    return dnu.flatten()"
   ]
  },
  {
   "cell_type": "code",
   "execution_count": 73,
   "metadata": {},
   "outputs": [],
   "source": [
    "sol = spi.solve_ivp(ode_integrate, (t0, tf), np.concatenate((q0.toArray(), om0, om_w0)), t_eval=np.linspace(t0, tf, tf-t0 ))"
   ]
  },
  {
   "cell_type": "code",
   "execution_count": 74,
   "metadata": {},
   "outputs": [
    {
     "data": {
      "image/png": "[encoded data removed]",
      "text/plain": [
       "<Figure size 640x480 with 3 Axes>"
      ]
     },
     "metadata": {},
     "output_type": "display_data"
    }
   ],
   "source": [
    "t = sol.t\t\n",
    "sol = sol.y\n",
    "# Plot the results\n",
    "fig, axs = plt.subplots(3, 1)\n",
    "axs[0].plot(t, sol[0,:], label='q0')\n",
    "axs[0].plot(t, sol[1,:], label='q1')\n",
    "axs[0].plot(t, sol[2,:], label='q2')\n",
    "axs[0].plot(t, sol[3,:], label='q3')\n",
    "axs[0].legend()\n",
    "axs[0].set_title('Quaternion components')\n",
    "axs[1].plot(t, sol[4,:], label='wx')\n",
    "axs[1].plot(t, sol[5,:], label='wy')\n",
    "axs[1].plot(t, sol[6,:], label='wz')\n",
    "axs[1].legend()\n",
    "axs[1].set_title('Body angular velocity')\n",
    "axs[2].plot(t, sol[7,:], label='w1')\n",
    "axs[2].plot(t, sol[8,:], label='w2')\n",
    "axs[2].plot(t, sol[9,:], label='w3')\n",
    "axs[2].plot(t, sol[10,:], label='w4')\n",
    "axs[2].legend()\n",
    "axs[2].set_title('Wheel angular velocities')\n",
    "plt.show()"
   ]
  },
  {
   "cell_type": "code",
   "execution_count": 34,
   "metadata": {},
   "outputs": [
    {
     "name": "stdout",
     "output_type": "stream",
     "text": [
      "[[ 0.80622577]\n",
      " [-0.1       ]\n",
      " [-0.3       ]\n",
      " [ 0.5       ]\n",
      " [-0.01      ]\n",
      " [ 0.01      ]\n",
      " [ 0.        ]\n",
      " [ 0.5       ]\n",
      " [-0.5       ]\n",
      " [ 0.5       ]\n",
      " [-0.5       ]]\n"
     ]
    }
   ],
   "source": [
    "print(sol[:])"
   ]
  }
 ],
 "metadata": {
  "kernelspec": {
   "display_name": ".venv",
   "language": "python",
   "name": "python3"
  },
  "language_info": {
   "codemirror_mode": {
    "name": "ipython",
    "version": 3
   },
   "file_extension": ".py",
   "mimetype": "text/x-python",
   "name": "python",
   "nbconvert_exporter": "python",
   "pygments_lexer": "ipython3",
   "version": "3.11.9"
  }
 },
 "nbformat": 4,
 "nbformat_minor": 2
}
